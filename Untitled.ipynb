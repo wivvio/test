{
 "cells": [
  {
   "cell_type": "code",
   "execution_count": 1,
   "id": "144472d6-0d9f-4953-92e2-b5323b7ab5b9",
   "metadata": {},
   "outputs": [
    {
     "name": "stdout",
     "output_type": "stream",
     "text": [
      "2.2\n"
     ]
    }
   ],
   "source": [
    "import pandas as pd\n",
    "\n",
    "all_data = [1.7, 0.5, None]\n",
    "data_sum = pd.Series(all_data).sum(skipna=None)\n",
    "print(data_sum)"
   ]
  },
  {
   "cell_type": "code",
   "execution_count": null,
   "id": "558fd55b-d905-4804-bac5-c9cbc00580ed",
   "metadata": {},
   "outputs": [],
   "source": []
  }
 ],
 "metadata": {
  "kernelspec": {
   "display_name": "Python 3 (ipykernel)",
   "language": "python",
   "name": "python3"
  },
  "language_info": {
   "codemirror_mode": {
    "name": "ipython",
    "version": 3
   },
   "file_extension": ".py",
   "mimetype": "text/x-python",
   "name": "python",
   "nbconvert_exporter": "python",
   "pygments_lexer": "ipython3",
   "version": "3.10.14"
  }
 },
 "nbformat": 4,
 "nbformat_minor": 5
}
